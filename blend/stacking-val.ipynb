{
 "cells": [
  {
   "cell_type": "code",
   "execution_count": 188,
   "metadata": {},
   "outputs": [],
   "source": [
    "import time\n",
    "\n",
    "from contextlib import contextmanager\n",
    "import numpy as np\n",
    "import pandas as pd\n",
    "from sklearn.model_selection import KFold, GridSearchCV\n",
    "from sklearn.metrics import roc_auc_score, roc_curve\n",
    "from sklearn.linear_model import LogisticRegression\n",
    "import lightgbm\n",
    "\n",
    "@contextmanager\n",
    "def timer(title):\n",
    "    t0 = time.time()\n",
    "    yield\n",
    "    print(\"{} - done in {:.0f}s\".format(title, time.time() - t0))\n",
    "\n",
    "def one_hot_encoder(df, nan_as_category = True):\n",
    "    original_columns = list(df.columns)\n",
    "    categorical_columns = [col for col in df.columns if df[col].dtype == 'object']\n",
    "    df = pd.get_dummies(df, columns= categorical_columns, dummy_na= nan_as_category)\n",
    "    new_columns = [c for c in df.columns if c not in original_columns]\n",
    "\n",
    "    return df, new_columns"
   ]
  },
  {
   "cell_type": "code",
   "execution_count": 113,
   "metadata": {},
   "outputs": [],
   "source": [
    "df = pd.read_csv('../data/processed_data_3.8.csv', compression='zip')"
   ]
  },
  {
   "cell_type": "code",
   "execution_count": 133,
   "metadata": {},
   "outputs": [],
   "source": [
    "train = df[df['TARGET'].notnull()]\n",
    "train = train[['SK_ID_CURR', 'TARGET']]"
   ]
  },
  {
   "cell_type": "code",
   "execution_count": 134,
   "metadata": {},
   "outputs": [
    {
     "data": {
      "text/plain": [
       "(307511, 2)"
      ]
     },
     "execution_count": 134,
     "metadata": {},
     "output_type": "execute_result"
    }
   ],
   "source": [
    "train.shape"
   ]
  },
  {
   "cell_type": "code",
   "execution_count": 135,
   "metadata": {},
   "outputs": [],
   "source": [
    "lgbm_val_df = pd.read_csv('../data/lightgbm-fast-val.csv')\n",
    "four_model_hold_df =  pd.read_csv('../predictions/hold_blend_nn.csv')\n",
    "four_model_val_df = pd.read_csv('../predictions/va_blend_nn.csv')"
   ]
  },
  {
   "cell_type": "code",
   "execution_count": 136,
   "metadata": {
    "scrolled": true
   },
   "outputs": [],
   "source": [
    "lgbm_val_df = lgbm_val_df.rename(columns = {'TARGET':'lgbm'})"
   ]
  },
  {
   "cell_type": "code",
   "execution_count": 137,
   "metadata": {},
   "outputs": [
    {
     "data": {
      "text/html": [
       "<div>\n",
       "<style scoped>\n",
       "    .dataframe tbody tr th:only-of-type {\n",
       "        vertical-align: middle;\n",
       "    }\n",
       "\n",
       "    .dataframe tbody tr th {\n",
       "        vertical-align: top;\n",
       "    }\n",
       "\n",
       "    .dataframe thead th {\n",
       "        text-align: right;\n",
       "    }\n",
       "</style>\n",
       "<table border=\"1\" class=\"dataframe\">\n",
       "  <thead>\n",
       "    <tr style=\"text-align: right;\">\n",
       "      <th></th>\n",
       "      <th>SK_ID_CURR</th>\n",
       "      <th>lgbm</th>\n",
       "    </tr>\n",
       "  </thead>\n",
       "  <tbody>\n",
       "    <tr>\n",
       "      <th>0</th>\n",
       "      <td>100002</td>\n",
       "      <td>0.293967</td>\n",
       "    </tr>\n",
       "    <tr>\n",
       "      <th>1</th>\n",
       "      <td>100003</td>\n",
       "      <td>0.014617</td>\n",
       "    </tr>\n",
       "    <tr>\n",
       "      <th>2</th>\n",
       "      <td>100004</td>\n",
       "      <td>0.027693</td>\n",
       "    </tr>\n",
       "    <tr>\n",
       "      <th>3</th>\n",
       "      <td>100006</td>\n",
       "      <td>0.026419</td>\n",
       "    </tr>\n",
       "    <tr>\n",
       "      <th>4</th>\n",
       "      <td>100007</td>\n",
       "      <td>0.089296</td>\n",
       "    </tr>\n",
       "  </tbody>\n",
       "</table>\n",
       "</div>"
      ],
      "text/plain": [
       "   SK_ID_CURR      lgbm\n",
       "0      100002  0.293967\n",
       "1      100003  0.014617\n",
       "2      100004  0.027693\n",
       "3      100006  0.026419\n",
       "4      100007  0.089296"
      ]
     },
     "execution_count": 137,
     "metadata": {},
     "output_type": "execute_result"
    }
   ],
   "source": [
    "lgbm_val_df.head()"
   ]
  },
  {
   "cell_type": "code",
   "execution_count": 138,
   "metadata": {},
   "outputs": [
    {
     "data": {
      "text/html": [
       "<div>\n",
       "<style scoped>\n",
       "    .dataframe tbody tr th:only-of-type {\n",
       "        vertical-align: middle;\n",
       "    }\n",
       "\n",
       "    .dataframe tbody tr th {\n",
       "        vertical-align: top;\n",
       "    }\n",
       "\n",
       "    .dataframe thead th {\n",
       "        text-align: right;\n",
       "    }\n",
       "</style>\n",
       "<table border=\"1\" class=\"dataframe\">\n",
       "  <thead>\n",
       "    <tr style=\"text-align: right;\">\n",
       "      <th></th>\n",
       "      <th>Unnamed: 0</th>\n",
       "      <th>SK_ID_CURR</th>\n",
       "      <th>ridge</th>\n",
       "      <th>f10_dnn</th>\n",
       "    </tr>\n",
       "  </thead>\n",
       "  <tbody>\n",
       "    <tr>\n",
       "      <th>0</th>\n",
       "      <td>0</td>\n",
       "      <td>384575</td>\n",
       "      <td>0.223925</td>\n",
       "      <td>0.269615</td>\n",
       "    </tr>\n",
       "    <tr>\n",
       "      <th>1</th>\n",
       "      <td>1</td>\n",
       "      <td>214010</td>\n",
       "      <td>0.005147</td>\n",
       "      <td>0.031345</td>\n",
       "    </tr>\n",
       "    <tr>\n",
       "      <th>2</th>\n",
       "      <td>2</td>\n",
       "      <td>142232</td>\n",
       "      <td>0.122121</td>\n",
       "      <td>0.143304</td>\n",
       "    </tr>\n",
       "    <tr>\n",
       "      <th>3</th>\n",
       "      <td>3</td>\n",
       "      <td>389171</td>\n",
       "      <td>0.087019</td>\n",
       "      <td>0.060104</td>\n",
       "    </tr>\n",
       "    <tr>\n",
       "      <th>4</th>\n",
       "      <td>4</td>\n",
       "      <td>283617</td>\n",
       "      <td>0.136457</td>\n",
       "      <td>0.084204</td>\n",
       "    </tr>\n",
       "  </tbody>\n",
       "</table>\n",
       "</div>"
      ],
      "text/plain": [
       "   Unnamed: 0  SK_ID_CURR     ridge   f10_dnn\n",
       "0           0      384575  0.223925  0.269615\n",
       "1           1      214010  0.005147  0.031345\n",
       "2           2      142232  0.122121  0.143304\n",
       "3           3      389171  0.087019  0.060104\n",
       "4           4      283617  0.136457  0.084204"
      ]
     },
     "execution_count": 138,
     "metadata": {},
     "output_type": "execute_result"
    }
   ],
   "source": [
    "four_model_hold_df.head()"
   ]
  },
  {
   "cell_type": "code",
   "execution_count": 139,
   "metadata": {},
   "outputs": [
    {
     "data": {
      "text/html": [
       "<div>\n",
       "<style scoped>\n",
       "    .dataframe tbody tr th:only-of-type {\n",
       "        vertical-align: middle;\n",
       "    }\n",
       "\n",
       "    .dataframe tbody tr th {\n",
       "        vertical-align: top;\n",
       "    }\n",
       "\n",
       "    .dataframe thead th {\n",
       "        text-align: right;\n",
       "    }\n",
       "</style>\n",
       "<table border=\"1\" class=\"dataframe\">\n",
       "  <thead>\n",
       "    <tr style=\"text-align: right;\">\n",
       "      <th></th>\n",
       "      <th>Unnamed: 0</th>\n",
       "      <th>SK_ID_CURR</th>\n",
       "      <th>ridge</th>\n",
       "      <th>f10_dnn</th>\n",
       "    </tr>\n",
       "  </thead>\n",
       "  <tbody>\n",
       "    <tr>\n",
       "      <th>0</th>\n",
       "      <td>0</td>\n",
       "      <td>252724</td>\n",
       "      <td>0.021630</td>\n",
       "      <td>0.040466</td>\n",
       "    </tr>\n",
       "    <tr>\n",
       "      <th>1</th>\n",
       "      <td>1</td>\n",
       "      <td>372834</td>\n",
       "      <td>0.000000</td>\n",
       "      <td>0.000000</td>\n",
       "    </tr>\n",
       "    <tr>\n",
       "      <th>2</th>\n",
       "      <td>2</td>\n",
       "      <td>326336</td>\n",
       "      <td>0.078165</td>\n",
       "      <td>0.086967</td>\n",
       "    </tr>\n",
       "    <tr>\n",
       "      <th>3</th>\n",
       "      <td>3</td>\n",
       "      <td>382390</td>\n",
       "      <td>0.111067</td>\n",
       "      <td>0.127865</td>\n",
       "    </tr>\n",
       "    <tr>\n",
       "      <th>4</th>\n",
       "      <td>4</td>\n",
       "      <td>330511</td>\n",
       "      <td>0.104096</td>\n",
       "      <td>0.084409</td>\n",
       "    </tr>\n",
       "  </tbody>\n",
       "</table>\n",
       "</div>"
      ],
      "text/plain": [
       "   Unnamed: 0  SK_ID_CURR     ridge   f10_dnn\n",
       "0           0      252724  0.021630  0.040466\n",
       "1           1      372834  0.000000  0.000000\n",
       "2           2      326336  0.078165  0.086967\n",
       "3           3      382390  0.111067  0.127865\n",
       "4           4      330511  0.104096  0.084409"
      ]
     },
     "execution_count": 139,
     "metadata": {},
     "output_type": "execute_result"
    }
   ],
   "source": [
    "four_model_val_df.head()"
   ]
  },
  {
   "cell_type": "code",
   "execution_count": 142,
   "metadata": {},
   "outputs": [],
   "source": [
    "train_df = pd.merge(four_model_val_df, lgbm_val_df, on=\"SK_ID_CURR\", how = 'left')"
   ]
  },
  {
   "cell_type": "code",
   "execution_count": 143,
   "metadata": {},
   "outputs": [
    {
     "data": {
      "text/html": [
       "<div>\n",
       "<style scoped>\n",
       "    .dataframe tbody tr th:only-of-type {\n",
       "        vertical-align: middle;\n",
       "    }\n",
       "\n",
       "    .dataframe tbody tr th {\n",
       "        vertical-align: top;\n",
       "    }\n",
       "\n",
       "    .dataframe thead th {\n",
       "        text-align: right;\n",
       "    }\n",
       "</style>\n",
       "<table border=\"1\" class=\"dataframe\">\n",
       "  <thead>\n",
       "    <tr style=\"text-align: right;\">\n",
       "      <th></th>\n",
       "      <th>Unnamed: 0</th>\n",
       "      <th>SK_ID_CURR</th>\n",
       "      <th>ridge</th>\n",
       "      <th>f10_dnn</th>\n",
       "      <th>lgbm</th>\n",
       "    </tr>\n",
       "  </thead>\n",
       "  <tbody>\n",
       "    <tr>\n",
       "      <th>0</th>\n",
       "      <td>0</td>\n",
       "      <td>252724</td>\n",
       "      <td>0.021630</td>\n",
       "      <td>0.040466</td>\n",
       "      <td>0.023470</td>\n",
       "    </tr>\n",
       "    <tr>\n",
       "      <th>1</th>\n",
       "      <td>1</td>\n",
       "      <td>372834</td>\n",
       "      <td>0.000000</td>\n",
       "      <td>0.000000</td>\n",
       "      <td>0.103268</td>\n",
       "    </tr>\n",
       "    <tr>\n",
       "      <th>2</th>\n",
       "      <td>2</td>\n",
       "      <td>326336</td>\n",
       "      <td>0.078165</td>\n",
       "      <td>0.086967</td>\n",
       "      <td>0.050801</td>\n",
       "    </tr>\n",
       "    <tr>\n",
       "      <th>3</th>\n",
       "      <td>3</td>\n",
       "      <td>382390</td>\n",
       "      <td>0.111067</td>\n",
       "      <td>0.127865</td>\n",
       "      <td>0.029729</td>\n",
       "    </tr>\n",
       "    <tr>\n",
       "      <th>4</th>\n",
       "      <td>4</td>\n",
       "      <td>330511</td>\n",
       "      <td>0.104096</td>\n",
       "      <td>0.084409</td>\n",
       "      <td>0.086421</td>\n",
       "    </tr>\n",
       "  </tbody>\n",
       "</table>\n",
       "</div>"
      ],
      "text/plain": [
       "   Unnamed: 0  SK_ID_CURR     ridge   f10_dnn      lgbm\n",
       "0           0      252724  0.021630  0.040466  0.023470\n",
       "1           1      372834  0.000000  0.000000  0.103268\n",
       "2           2      326336  0.078165  0.086967  0.050801\n",
       "3           3      382390  0.111067  0.127865  0.029729\n",
       "4           4      330511  0.104096  0.084409  0.086421"
      ]
     },
     "execution_count": 143,
     "metadata": {},
     "output_type": "execute_result"
    }
   ],
   "source": [
    "train_df.head()"
   ]
  },
  {
   "cell_type": "code",
   "execution_count": 144,
   "metadata": {},
   "outputs": [
    {
     "data": {
      "text/plain": [
       "(276759, 5)"
      ]
     },
     "execution_count": 144,
     "metadata": {},
     "output_type": "execute_result"
    }
   ],
   "source": [
    "train_df.shape"
   ]
  },
  {
   "cell_type": "code",
   "execution_count": 145,
   "metadata": {},
   "outputs": [],
   "source": [
    "train_df = pd.merge(train_df, train, on=\"SK_ID_CURR\", how = 'left')"
   ]
  },
  {
   "cell_type": "code",
   "execution_count": null,
   "metadata": {},
   "outputs": [],
   "source": []
  },
  {
   "cell_type": "code",
   "execution_count": 146,
   "metadata": {},
   "outputs": [
    {
     "data": {
      "text/plain": [
       "(276759, 6)"
      ]
     },
     "execution_count": 146,
     "metadata": {},
     "output_type": "execute_result"
    }
   ],
   "source": [
    "train_df.shape"
   ]
  },
  {
   "cell_type": "code",
   "execution_count": 123,
   "metadata": {
    "scrolled": true
   },
   "outputs": [
    {
     "data": {
      "text/html": [
       "<div>\n",
       "<style scoped>\n",
       "    .dataframe tbody tr th:only-of-type {\n",
       "        vertical-align: middle;\n",
       "    }\n",
       "\n",
       "    .dataframe tbody tr th {\n",
       "        vertical-align: top;\n",
       "    }\n",
       "\n",
       "    .dataframe thead th {\n",
       "        text-align: right;\n",
       "    }\n",
       "</style>\n",
       "<table border=\"1\" class=\"dataframe\">\n",
       "  <thead>\n",
       "    <tr style=\"text-align: right;\">\n",
       "      <th></th>\n",
       "      <th>Unnamed: 0</th>\n",
       "      <th>SK_ID_CURR</th>\n",
       "      <th>ridge</th>\n",
       "      <th>f10_dnn</th>\n",
       "      <th>lgbm</th>\n",
       "      <th>TARGET</th>\n",
       "    </tr>\n",
       "  </thead>\n",
       "  <tbody>\n",
       "    <tr>\n",
       "      <th>0</th>\n",
       "      <td>0.0</td>\n",
       "      <td>252724</td>\n",
       "      <td>0.021630</td>\n",
       "      <td>0.040466</td>\n",
       "      <td>0.023470</td>\n",
       "      <td>0.0</td>\n",
       "    </tr>\n",
       "    <tr>\n",
       "      <th>1</th>\n",
       "      <td>1.0</td>\n",
       "      <td>372834</td>\n",
       "      <td>0.000000</td>\n",
       "      <td>0.000000</td>\n",
       "      <td>0.103268</td>\n",
       "      <td>0.0</td>\n",
       "    </tr>\n",
       "    <tr>\n",
       "      <th>2</th>\n",
       "      <td>2.0</td>\n",
       "      <td>326336</td>\n",
       "      <td>0.078165</td>\n",
       "      <td>0.086967</td>\n",
       "      <td>0.050801</td>\n",
       "      <td>1.0</td>\n",
       "    </tr>\n",
       "    <tr>\n",
       "      <th>3</th>\n",
       "      <td>3.0</td>\n",
       "      <td>382390</td>\n",
       "      <td>0.111067</td>\n",
       "      <td>0.127865</td>\n",
       "      <td>0.029729</td>\n",
       "      <td>0.0</td>\n",
       "    </tr>\n",
       "    <tr>\n",
       "      <th>4</th>\n",
       "      <td>4.0</td>\n",
       "      <td>330511</td>\n",
       "      <td>0.104096</td>\n",
       "      <td>0.084409</td>\n",
       "      <td>0.086421</td>\n",
       "      <td>0.0</td>\n",
       "    </tr>\n",
       "  </tbody>\n",
       "</table>\n",
       "</div>"
      ],
      "text/plain": [
       "   Unnamed: 0  SK_ID_CURR     ridge   f10_dnn      lgbm  TARGET\n",
       "0         0.0      252724  0.021630  0.040466  0.023470     0.0\n",
       "1         1.0      372834  0.000000  0.000000  0.103268     0.0\n",
       "2         2.0      326336  0.078165  0.086967  0.050801     1.0\n",
       "3         3.0      382390  0.111067  0.127865  0.029729     0.0\n",
       "4         4.0      330511  0.104096  0.084409  0.086421     0.0"
      ]
     },
     "execution_count": 123,
     "metadata": {},
     "output_type": "execute_result"
    }
   ],
   "source": [
    "train_df.head()"
   ]
  },
  {
   "cell_type": "code",
   "execution_count": 124,
   "metadata": {},
   "outputs": [],
   "source": [
    "train_df = train_df.drop('Unnamed: 0', axis = 1)"
   ]
  },
  {
   "cell_type": "code",
   "execution_count": 147,
   "metadata": {},
   "outputs": [],
   "source": [
    "test_df = pd.merge(four_model_hold_df, lgbm_val_df, on = 'SK_ID_CURR', how = 'left')\n",
    "test_df = pd.merge(test_df, train, on=\"SK_ID_CURR\", how = 'left')"
   ]
  },
  {
   "cell_type": "code",
   "execution_count": 148,
   "metadata": {},
   "outputs": [
    {
     "data": {
      "text/plain": [
       "(30752, 6)"
      ]
     },
     "execution_count": 148,
     "metadata": {},
     "output_type": "execute_result"
    }
   ],
   "source": [
    "test_df.shape"
   ]
  },
  {
   "cell_type": "code",
   "execution_count": 149,
   "metadata": {},
   "outputs": [
    {
     "data": {
      "text/html": [
       "<div>\n",
       "<style scoped>\n",
       "    .dataframe tbody tr th:only-of-type {\n",
       "        vertical-align: middle;\n",
       "    }\n",
       "\n",
       "    .dataframe tbody tr th {\n",
       "        vertical-align: top;\n",
       "    }\n",
       "\n",
       "    .dataframe thead th {\n",
       "        text-align: right;\n",
       "    }\n",
       "</style>\n",
       "<table border=\"1\" class=\"dataframe\">\n",
       "  <thead>\n",
       "    <tr style=\"text-align: right;\">\n",
       "      <th></th>\n",
       "      <th>Unnamed: 0</th>\n",
       "      <th>SK_ID_CURR</th>\n",
       "      <th>ridge</th>\n",
       "      <th>f10_dnn</th>\n",
       "      <th>lgbm</th>\n",
       "      <th>TARGET</th>\n",
       "    </tr>\n",
       "  </thead>\n",
       "  <tbody>\n",
       "    <tr>\n",
       "      <th>0</th>\n",
       "      <td>0</td>\n",
       "      <td>384575</td>\n",
       "      <td>0.223925</td>\n",
       "      <td>0.269615</td>\n",
       "      <td>0.167486</td>\n",
       "      <td>0.0</td>\n",
       "    </tr>\n",
       "    <tr>\n",
       "      <th>1</th>\n",
       "      <td>1</td>\n",
       "      <td>214010</td>\n",
       "      <td>0.005147</td>\n",
       "      <td>0.031345</td>\n",
       "      <td>0.035745</td>\n",
       "      <td>0.0</td>\n",
       "    </tr>\n",
       "    <tr>\n",
       "      <th>2</th>\n",
       "      <td>2</td>\n",
       "      <td>142232</td>\n",
       "      <td>0.122121</td>\n",
       "      <td>0.143304</td>\n",
       "      <td>0.083213</td>\n",
       "      <td>0.0</td>\n",
       "    </tr>\n",
       "    <tr>\n",
       "      <th>3</th>\n",
       "      <td>3</td>\n",
       "      <td>389171</td>\n",
       "      <td>0.087019</td>\n",
       "      <td>0.060104</td>\n",
       "      <td>0.040297</td>\n",
       "      <td>0.0</td>\n",
       "    </tr>\n",
       "    <tr>\n",
       "      <th>4</th>\n",
       "      <td>4</td>\n",
       "      <td>283617</td>\n",
       "      <td>0.136457</td>\n",
       "      <td>0.084204</td>\n",
       "      <td>0.079696</td>\n",
       "      <td>0.0</td>\n",
       "    </tr>\n",
       "  </tbody>\n",
       "</table>\n",
       "</div>"
      ],
      "text/plain": [
       "   Unnamed: 0  SK_ID_CURR     ridge   f10_dnn      lgbm  TARGET\n",
       "0           0      384575  0.223925  0.269615  0.167486     0.0\n",
       "1           1      214010  0.005147  0.031345  0.035745     0.0\n",
       "2           2      142232  0.122121  0.143304  0.083213     0.0\n",
       "3           3      389171  0.087019  0.060104  0.040297     0.0\n",
       "4           4      283617  0.136457  0.084204  0.079696     0.0"
      ]
     },
     "execution_count": 149,
     "metadata": {},
     "output_type": "execute_result"
    }
   ],
   "source": [
    "test_df.head()"
   ]
  },
  {
   "cell_type": "code",
   "execution_count": null,
   "metadata": {},
   "outputs": [],
   "source": []
  },
  {
   "cell_type": "code",
   "execution_count": 128,
   "metadata": {},
   "outputs": [
    {
     "data": {
      "text/html": [
       "<div>\n",
       "<style scoped>\n",
       "    .dataframe tbody tr th:only-of-type {\n",
       "        vertical-align: middle;\n",
       "    }\n",
       "\n",
       "    .dataframe tbody tr th {\n",
       "        vertical-align: top;\n",
       "    }\n",
       "\n",
       "    .dataframe thead th {\n",
       "        text-align: right;\n",
       "    }\n",
       "</style>\n",
       "<table border=\"1\" class=\"dataframe\">\n",
       "  <thead>\n",
       "    <tr style=\"text-align: right;\">\n",
       "      <th></th>\n",
       "      <th>SK_ID_CURR</th>\n",
       "      <th>ridge</th>\n",
       "      <th>f10_dnn</th>\n",
       "      <th>lgbm</th>\n",
       "      <th>TARGET</th>\n",
       "    </tr>\n",
       "  </thead>\n",
       "  <tbody>\n",
       "    <tr>\n",
       "      <th>0</th>\n",
       "      <td>252724</td>\n",
       "      <td>0.021630</td>\n",
       "      <td>0.040466</td>\n",
       "      <td>0.023470</td>\n",
       "      <td>0.0</td>\n",
       "    </tr>\n",
       "    <tr>\n",
       "      <th>1</th>\n",
       "      <td>372834</td>\n",
       "      <td>0.000000</td>\n",
       "      <td>0.000000</td>\n",
       "      <td>0.103268</td>\n",
       "      <td>0.0</td>\n",
       "    </tr>\n",
       "    <tr>\n",
       "      <th>2</th>\n",
       "      <td>326336</td>\n",
       "      <td>0.078165</td>\n",
       "      <td>0.086967</td>\n",
       "      <td>0.050801</td>\n",
       "      <td>1.0</td>\n",
       "    </tr>\n",
       "    <tr>\n",
       "      <th>3</th>\n",
       "      <td>382390</td>\n",
       "      <td>0.111067</td>\n",
       "      <td>0.127865</td>\n",
       "      <td>0.029729</td>\n",
       "      <td>0.0</td>\n",
       "    </tr>\n",
       "    <tr>\n",
       "      <th>4</th>\n",
       "      <td>330511</td>\n",
       "      <td>0.104096</td>\n",
       "      <td>0.084409</td>\n",
       "      <td>0.086421</td>\n",
       "      <td>0.0</td>\n",
       "    </tr>\n",
       "  </tbody>\n",
       "</table>\n",
       "</div>"
      ],
      "text/plain": [
       "   SK_ID_CURR     ridge   f10_dnn      lgbm  TARGET\n",
       "0      252724  0.021630  0.040466  0.023470     0.0\n",
       "1      372834  0.000000  0.000000  0.103268     0.0\n",
       "2      326336  0.078165  0.086967  0.050801     1.0\n",
       "3      382390  0.111067  0.127865  0.029729     0.0\n",
       "4      330511  0.104096  0.084409  0.086421     0.0"
      ]
     },
     "execution_count": 128,
     "metadata": {},
     "output_type": "execute_result"
    }
   ],
   "source": [
    "train_df.head()"
   ]
  },
  {
   "cell_type": "code",
   "execution_count": 158,
   "metadata": {},
   "outputs": [],
   "source": [
    "train_df = train_df.drop('Unnamed: 0', axis = 1)"
   ]
  },
  {
   "cell_type": "code",
   "execution_count": 159,
   "metadata": {},
   "outputs": [],
   "source": [
    "train_df.to_csv('../data/stack_train_val.csv')"
   ]
  },
  {
   "cell_type": "code",
   "execution_count": 151,
   "metadata": {},
   "outputs": [],
   "source": [
    "test_df = test_df.drop('Unnamed: 0', axis = 1)"
   ]
  },
  {
   "cell_type": "code",
   "execution_count": 152,
   "metadata": {},
   "outputs": [],
   "source": [
    "test_df.to_csv('../data/stack_hold.csv')"
   ]
  },
  {
   "cell_type": "code",
   "execution_count": 153,
   "metadata": {},
   "outputs": [
    {
     "data": {
      "text/html": [
       "<div>\n",
       "<style scoped>\n",
       "    .dataframe tbody tr th:only-of-type {\n",
       "        vertical-align: middle;\n",
       "    }\n",
       "\n",
       "    .dataframe tbody tr th {\n",
       "        vertical-align: top;\n",
       "    }\n",
       "\n",
       "    .dataframe thead th {\n",
       "        text-align: right;\n",
       "    }\n",
       "</style>\n",
       "<table border=\"1\" class=\"dataframe\">\n",
       "  <thead>\n",
       "    <tr style=\"text-align: right;\">\n",
       "      <th></th>\n",
       "      <th>SK_ID_CURR</th>\n",
       "      <th>ridge</th>\n",
       "      <th>f10_dnn</th>\n",
       "      <th>lgbm</th>\n",
       "      <th>TARGET</th>\n",
       "    </tr>\n",
       "  </thead>\n",
       "  <tbody>\n",
       "    <tr>\n",
       "      <th>0</th>\n",
       "      <td>384575</td>\n",
       "      <td>0.223925</td>\n",
       "      <td>0.269615</td>\n",
       "      <td>0.167486</td>\n",
       "      <td>0.0</td>\n",
       "    </tr>\n",
       "    <tr>\n",
       "      <th>1</th>\n",
       "      <td>214010</td>\n",
       "      <td>0.005147</td>\n",
       "      <td>0.031345</td>\n",
       "      <td>0.035745</td>\n",
       "      <td>0.0</td>\n",
       "    </tr>\n",
       "    <tr>\n",
       "      <th>2</th>\n",
       "      <td>142232</td>\n",
       "      <td>0.122121</td>\n",
       "      <td>0.143304</td>\n",
       "      <td>0.083213</td>\n",
       "      <td>0.0</td>\n",
       "    </tr>\n",
       "    <tr>\n",
       "      <th>3</th>\n",
       "      <td>389171</td>\n",
       "      <td>0.087019</td>\n",
       "      <td>0.060104</td>\n",
       "      <td>0.040297</td>\n",
       "      <td>0.0</td>\n",
       "    </tr>\n",
       "    <tr>\n",
       "      <th>4</th>\n",
       "      <td>283617</td>\n",
       "      <td>0.136457</td>\n",
       "      <td>0.084204</td>\n",
       "      <td>0.079696</td>\n",
       "      <td>0.0</td>\n",
       "    </tr>\n",
       "  </tbody>\n",
       "</table>\n",
       "</div>"
      ],
      "text/plain": [
       "   SK_ID_CURR     ridge   f10_dnn      lgbm  TARGET\n",
       "0      384575  0.223925  0.269615  0.167486     0.0\n",
       "1      214010  0.005147  0.031345  0.035745     0.0\n",
       "2      142232  0.122121  0.143304  0.083213     0.0\n",
       "3      389171  0.087019  0.060104  0.040297     0.0\n",
       "4      283617  0.136457  0.084204  0.079696     0.0"
      ]
     },
     "execution_count": 153,
     "metadata": {},
     "output_type": "execute_result"
    }
   ],
   "source": [
    "test_df.head()"
   ]
  },
  {
   "cell_type": "code",
   "execution_count": 157,
   "metadata": {},
   "outputs": [
    {
     "data": {
      "text/html": [
       "<div>\n",
       "<style scoped>\n",
       "    .dataframe tbody tr th:only-of-type {\n",
       "        vertical-align: middle;\n",
       "    }\n",
       "\n",
       "    .dataframe tbody tr th {\n",
       "        vertical-align: top;\n",
       "    }\n",
       "\n",
       "    .dataframe thead th {\n",
       "        text-align: right;\n",
       "    }\n",
       "</style>\n",
       "<table border=\"1\" class=\"dataframe\">\n",
       "  <thead>\n",
       "    <tr style=\"text-align: right;\">\n",
       "      <th></th>\n",
       "      <th>Unnamed: 0</th>\n",
       "      <th>SK_ID_CURR</th>\n",
       "      <th>ridge</th>\n",
       "      <th>f10_dnn</th>\n",
       "      <th>lgbm</th>\n",
       "      <th>TARGET</th>\n",
       "    </tr>\n",
       "  </thead>\n",
       "  <tbody>\n",
       "    <tr>\n",
       "      <th>0</th>\n",
       "      <td>0</td>\n",
       "      <td>252724</td>\n",
       "      <td>0.021630</td>\n",
       "      <td>0.040466</td>\n",
       "      <td>0.023470</td>\n",
       "      <td>0.0</td>\n",
       "    </tr>\n",
       "    <tr>\n",
       "      <th>1</th>\n",
       "      <td>1</td>\n",
       "      <td>372834</td>\n",
       "      <td>0.000000</td>\n",
       "      <td>0.000000</td>\n",
       "      <td>0.103268</td>\n",
       "      <td>0.0</td>\n",
       "    </tr>\n",
       "    <tr>\n",
       "      <th>2</th>\n",
       "      <td>2</td>\n",
       "      <td>326336</td>\n",
       "      <td>0.078165</td>\n",
       "      <td>0.086967</td>\n",
       "      <td>0.050801</td>\n",
       "      <td>1.0</td>\n",
       "    </tr>\n",
       "    <tr>\n",
       "      <th>3</th>\n",
       "      <td>3</td>\n",
       "      <td>382390</td>\n",
       "      <td>0.111067</td>\n",
       "      <td>0.127865</td>\n",
       "      <td>0.029729</td>\n",
       "      <td>0.0</td>\n",
       "    </tr>\n",
       "    <tr>\n",
       "      <th>4</th>\n",
       "      <td>4</td>\n",
       "      <td>330511</td>\n",
       "      <td>0.104096</td>\n",
       "      <td>0.084409</td>\n",
       "      <td>0.086421</td>\n",
       "      <td>0.0</td>\n",
       "    </tr>\n",
       "  </tbody>\n",
       "</table>\n",
       "</div>"
      ],
      "text/plain": [
       "   Unnamed: 0  SK_ID_CURR     ridge   f10_dnn      lgbm  TARGET\n",
       "0           0      252724  0.021630  0.040466  0.023470     0.0\n",
       "1           1      372834  0.000000  0.000000  0.103268     0.0\n",
       "2           2      326336  0.078165  0.086967  0.050801     1.0\n",
       "3           3      382390  0.111067  0.127865  0.029729     0.0\n",
       "4           4      330511  0.104096  0.084409  0.086421     0.0"
      ]
     },
     "execution_count": 157,
     "metadata": {},
     "output_type": "execute_result"
    }
   ],
   "source": [
    "train_df.head()"
   ]
  },
  {
   "cell_type": "code",
   "execution_count": 187,
   "metadata": {
    "scrolled": true
   },
   "outputs": [
    {
     "name": "stdout",
     "output_type": "stream",
     "text": [
      "Starting LightGBM. Train shape: (276759, 5), test shape: (30752, 5)\n",
      "Training until validation scores don't improve for 100 rounds.\n",
      "[50]\ttraining's auc: 0.794026\tvalid_1's auc: 0.793469\n",
      "[100]\ttraining's auc: 0.794273\tvalid_1's auc: 0.793466\n",
      "[150]\ttraining's auc: 0.794505\tvalid_1's auc: 0.79336\n",
      "Early stopping, best iteration is:\n",
      "[67]\ttraining's auc: 0.794103\tvalid_1's auc: 0.79366\n",
      "Fold  1 AUC : 0.793660\n",
      "Training until validation scores don't improve for 100 rounds.\n",
      "[50]\ttraining's auc: 0.794521\tvalid_1's auc: 0.791534\n",
      "[100]\ttraining's auc: 0.794795\tvalid_1's auc: 0.791717\n",
      "[150]\ttraining's auc: 0.794921\tvalid_1's auc: 0.791651\n",
      "[200]\ttraining's auc: 0.795012\tvalid_1's auc: 0.791758\n",
      "[250]\ttraining's auc: 0.795064\tvalid_1's auc: 0.791672\n",
      "Early stopping, best iteration is:\n",
      "[190]\ttraining's auc: 0.794974\tvalid_1's auc: 0.791809\n",
      "Fold  2 AUC : 0.791809\n",
      "Training until validation scores don't improve for 100 rounds.\n",
      "[50]\ttraining's auc: 0.793418\tvalid_1's auc: 0.795924\n",
      "[100]\ttraining's auc: 0.793696\tvalid_1's auc: 0.795727\n",
      "[150]\ttraining's auc: 0.793843\tvalid_1's auc: 0.795858\n",
      "Early stopping, best iteration is:\n",
      "[66]\ttraining's auc: 0.7935\tvalid_1's auc: 0.795963\n",
      "Fold  3 AUC : 0.795963\n",
      "Training until validation scores don't improve for 100 rounds.\n",
      "[50]\ttraining's auc: 0.79455\tvalid_1's auc: 0.79123\n",
      "[100]\ttraining's auc: 0.79473\tvalid_1's auc: 0.791236\n",
      "[150]\ttraining's auc: 0.794845\tvalid_1's auc: 0.791077\n",
      "Early stopping, best iteration is:\n",
      "[82]\ttraining's auc: 0.794626\tvalid_1's auc: 0.791295\n",
      "Fold  4 AUC : 0.791295\n",
      "Training until validation scores don't improve for 100 rounds.\n",
      "[50]\ttraining's auc: 0.793482\tvalid_1's auc: 0.795391\n",
      "[100]\ttraining's auc: 0.793817\tvalid_1's auc: 0.795039\n",
      "[150]\ttraining's auc: 0.794027\tvalid_1's auc: 0.794883\n",
      "Early stopping, best iteration is:\n",
      "[51]\ttraining's auc: 0.793485\tvalid_1's auc: 0.795393\n",
      "Fold  5 AUC : 0.795393\n",
      "Full AUC score 0.793280\n",
      "Holdout score 0.793210\n"
     ]
    }
   ],
   "source": [
    "print(\"Starting LightGBM. Train shape: {}, test shape: {}\".format(train_df.shape, test_df.shape))\n",
    "\n",
    "folds = KFold(n_splits= 5, shuffle=True, random_state=1001)\n",
    "# train_df = pd.read_csv('../data/stack_train_val.csv')\n",
    "# test_df = pd.read_csv('../data/stack_hold.csv')\n",
    "\n",
    "# Create arrays and dataframes to store results\n",
    "oof_preds = np.zeros(train_df.shape[0])\n",
    "sub_preds = np.zeros(test_df.shape[0])\n",
    "feats = [f for f in train_df.columns if f not in ['TARGET','SK_ID_CURR','SK_ID_BUREAU','SK_ID_PREV','index']]\n",
    "\n",
    "for n_fold, (train_idx, valid_idx) in enumerate(folds.split(train_df[feats], train_df['TARGET'])):\n",
    "    dtrain = lightgbm.Dataset(data=train_df[feats].iloc[train_idx], \n",
    "                            label=train_df['TARGET'].iloc[train_idx], \n",
    "                            free_raw_data=False, silent=True)\n",
    "    dvalid = lightgbm.Dataset(data=train_df[feats].iloc[valid_idx], \n",
    "                            label=train_df['TARGET'].iloc[valid_idx], \n",
    "                            free_raw_data=False, silent=True)\n",
    "\n",
    "    # LightGBM parameters found by Bayesian optimization\n",
    "    params = {\n",
    "        'objective': 'binary',\n",
    "        'boosting_type': 'goss', # 'gbdt'\n",
    "        'nthread': 4,\n",
    "        'learning_rate': 0.08,  # 02,\n",
    "        'num_leaves': 3,\n",
    "#         'colsample_bytree': 0.9497036,\n",
    "#         'subsample': 0.8715623,\n",
    "#         'subsample_freq': 1,\n",
    "#         'max_depth': 8,\n",
    "#         'reg_alpha': 0.041545473,\n",
    "#         'reg_lambda': 0.0735294,\n",
    "        'min_split_gain': 0.05,\n",
    "#         'min_child_weight': 60, #39.3259775\n",
    "        'seed': 0,\n",
    "        'verbose': -1,\n",
    "        'metric': 'auc',\n",
    "    }\n",
    "\n",
    "    clf = lightgbm.train(\n",
    "        params=params,c\n",
    "        train_set=dtrain,\n",
    "        num_boost_round=10000,\n",
    "        valid_sets=[dtrain, dvalid],\n",
    "        early_stopping_rounds = 100,\n",
    "        verbose_eval=50\n",
    "    )\n",
    "\n",
    "    oof_preds[valid_idx] = clf.predict(dvalid.data)\n",
    "    sub_preds += clf.predict(test_df[feats]) / folds.n_splits\n",
    "\n",
    "    print('Fold %2d AUC : %.6f' % (n_fold + 1, roc_auc_score(dvalid.label, oof_preds[valid_idx])))\n",
    "\n",
    "print('Full AUC score %.6f' % roc_auc_score(train_df['TARGET'], oof_preds))        \n",
    "print('Holdout score %.6f' % roc_auc_score(test_df['TARGET'], sub_preds))"
   ]
  },
  {
   "cell_type": "code",
   "execution_count": 191,
   "metadata": {},
   "outputs": [
    {
     "data": {
      "text/html": [
       "<div>\n",
       "<style scoped>\n",
       "    .dataframe tbody tr th:only-of-type {\n",
       "        vertical-align: middle;\n",
       "    }\n",
       "\n",
       "    .dataframe tbody tr th {\n",
       "        vertical-align: top;\n",
       "    }\n",
       "\n",
       "    .dataframe thead th {\n",
       "        text-align: right;\n",
       "    }\n",
       "</style>\n",
       "<table border=\"1\" class=\"dataframe\">\n",
       "  <thead>\n",
       "    <tr style=\"text-align: right;\">\n",
       "      <th></th>\n",
       "      <th>SK_ID_CURR</th>\n",
       "      <th>ridge</th>\n",
       "      <th>f10_dnn</th>\n",
       "      <th>lgbm</th>\n",
       "      <th>TARGET</th>\n",
       "    </tr>\n",
       "  </thead>\n",
       "  <tbody>\n",
       "    <tr>\n",
       "      <th>0</th>\n",
       "      <td>384575</td>\n",
       "      <td>0.223925</td>\n",
       "      <td>0.269615</td>\n",
       "      <td>0.167486</td>\n",
       "      <td>0.0</td>\n",
       "    </tr>\n",
       "    <tr>\n",
       "      <th>1</th>\n",
       "      <td>214010</td>\n",
       "      <td>0.005147</td>\n",
       "      <td>0.031345</td>\n",
       "      <td>0.035745</td>\n",
       "      <td>0.0</td>\n",
       "    </tr>\n",
       "    <tr>\n",
       "      <th>2</th>\n",
       "      <td>142232</td>\n",
       "      <td>0.122121</td>\n",
       "      <td>0.143304</td>\n",
       "      <td>0.083213</td>\n",
       "      <td>0.0</td>\n",
       "    </tr>\n",
       "    <tr>\n",
       "      <th>3</th>\n",
       "      <td>389171</td>\n",
       "      <td>0.087019</td>\n",
       "      <td>0.060104</td>\n",
       "      <td>0.040297</td>\n",
       "      <td>0.0</td>\n",
       "    </tr>\n",
       "    <tr>\n",
       "      <th>4</th>\n",
       "      <td>283617</td>\n",
       "      <td>0.136457</td>\n",
       "      <td>0.084204</td>\n",
       "      <td>0.079696</td>\n",
       "      <td>0.0</td>\n",
       "    </tr>\n",
       "  </tbody>\n",
       "</table>\n",
       "</div>"
      ],
      "text/plain": [
       "   SK_ID_CURR     ridge   f10_dnn      lgbm  TARGET\n",
       "0      384575  0.223925  0.269615  0.167486     0.0\n",
       "1      214010  0.005147  0.031345  0.035745     0.0\n",
       "2      142232  0.122121  0.143304  0.083213     0.0\n",
       "3      389171  0.087019  0.060104  0.040297     0.0\n",
       "4      283617  0.136457  0.084204  0.079696     0.0"
      ]
     },
     "execution_count": 191,
     "metadata": {},
     "output_type": "execute_result"
    }
   ],
   "source": [
    "test_df.head()"
   ]
  },
  {
   "cell_type": "code",
   "execution_count": 199,
   "metadata": {
    "scrolled": true
   },
   "outputs": [
    {
     "name": "stdout",
     "output_type": "stream",
     "text": [
      "Starting logistic regression. Train shape: (276759, 5), test shape: (30752, 5)\n",
      "Holdout score 0.792292\n"
     ]
    }
   ],
   "source": [
    "print(\"Starting logistic regression. Train shape: {}, test shape: {}\".format(train_df.shape, test_df.shape))\n",
    "\n",
    "# train_df = pd.read_csv('../data/stack_train_val.csv')\n",
    "# test_df = pd.read_csv('../data/stack_hold.csv')\n",
    "\n",
    "# Create arrays and dataframes to store results\n",
    "oof_preds = np.zeros(train_df.shape[0])\n",
    "sub_preds = np.zeros(test_df.shape[0])\n",
    "feats = [f for f in train_df.columns if f not in ['TARGET','SK_ID_CURR','SK_ID_BUREAU','SK_ID_PREV','index']]\n",
    "\n",
    "log_clf = LogisticRegression()\n",
    "log_clf.fit(train_df[feats], train_df['TARGET'])\n",
    "sub_preds = log_clf.predict_proba(test_df[feats])\n",
    "\n",
    "\n",
    "# print('Full AUC score %.6f' % roc_auc_score(train_df['TARGET'], oof_preds))        \n",
    "print('Holdout score %.6f' % roc_auc_score(test_df['TARGET'], sub_preds[:,1]))"
   ]
  },
  {
   "cell_type": "code",
   "execution_count": 195,
   "metadata": {},
   "outputs": [
    {
     "data": {
      "text/plain": [
       "(30752, 2)"
      ]
     },
     "execution_count": 195,
     "metadata": {},
     "output_type": "execute_result"
    }
   ],
   "source": [
    "sub_preds.shape"
   ]
  }
 ],
 "metadata": {
  "kernelspec": {
   "display_name": "Python 3",
   "language": "python",
   "name": "python3"
  },
  "language_info": {
   "codemirror_mode": {
    "name": "ipython",
    "version": 3
   },
   "file_extension": ".py",
   "mimetype": "text/x-python",
   "name": "python",
   "nbconvert_exporter": "python",
   "pygments_lexer": "ipython3",
   "version": "3.6.6"
  }
 },
 "nbformat": 4,
 "nbformat_minor": 2
}
