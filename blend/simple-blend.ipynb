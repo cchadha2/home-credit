{
 "cells": [
  {
   "cell_type": "code",
   "execution_count": 9,
   "metadata": {},
   "outputs": [],
   "source": [
    "import time\n",
    "from contextlib import contextmanager\n",
    "import pandas as pd"
   ]
  },
  {
   "cell_type": "code",
   "execution_count": 10,
   "metadata": {
    "_cell_guid": "79c7e3d0-c299-4dcb-8224-4455121ee9b0",
    "_uuid": "d629ff2d2480ee46fbb7e2d37f6b5fab8052498a"
   },
   "outputs": [],
   "source": [
    "@contextmanager\n",
    "def timer(title):\n",
    "    t0 = time.time()\n",
    "    yield\n",
    "    print(\"{} - done in {:.0f}s\".format(title, time.time() - t0))"
   ]
  },
  {
   "cell_type": "code",
   "execution_count": 11,
   "metadata": {},
   "outputs": [],
   "source": [
    "def simple_blend():\n",
    "    lightgbm_preds = pd.read_csv('../predictions/lightgbm_pred_bayesian.csv')\n",
    "    xgboost_preds = pd.read_csv('../predictions/xgb_pred.csv')\n",
    "    catboost_preds = pd.read_csv('../predictions/catboost_preds.csv')\n",
    "    rf_preds = pd.read_csv('../predictions/rf_preds.csv')\n",
    "    \n",
    "    # Write submission file\n",
    "    pred_df = lightgbm_preds[['SK_ID_CURR']].copy()\n",
    "    pred_df['LGB_TARGET'] = lightgbm_preds['TARGET']\n",
    "    pred_df['XGB_TARGET'] = xgboost_preds['TARGET']\n",
    "#     pred_df['CAT_TARGET'] = catboost_preds['TARGET']\n",
    "#     pred_df['RF_TARGET'] = rf_preds['TARGET']\n",
    "    pred_df['TARGET'] = 0.5*pred_df['LGB_TARGET'] + 0.5*pred_df['XGB_TARGET']\n",
    "    pred_df[['SK_ID_CURR', 'TARGET']].to_csv(submission_file_name, index= False)"
   ]
  },
  {
   "cell_type": "code",
   "execution_count": 12,
   "metadata": {
    "scrolled": false
   },
   "outputs": [
    {
     "name": "stdout",
     "output_type": "stream",
     "text": [
      "Blended model preds - done in 0s\n"
     ]
    }
   ],
   "source": [
    "if __name__ == \"__main__\":\n",
    "    submission_file_name = \"../predictions/simple_blend_pred.csv\"\n",
    "    with timer(\"Blended model preds\"):\n",
    "        simple_blend()"
   ]
  },
  {
   "cell_type": "code",
   "execution_count": null,
   "metadata": {},
   "outputs": [],
   "source": []
  },
  {
   "cell_type": "code",
   "execution_count": null,
   "metadata": {},
   "outputs": [],
   "source": []
  }
 ],
 "metadata": {
  "kernelspec": {
   "display_name": "Python 3",
   "language": "python",
   "name": "python3"
  },
  "language_info": {
   "codemirror_mode": {
    "name": "ipython",
    "version": 3
   },
   "file_extension": ".py",
   "mimetype": "text/x-python",
   "name": "python",
   "nbconvert_exporter": "python",
   "pygments_lexer": "ipython3",
   "version": "3.6.6"
  }
 },
 "nbformat": 4,
 "nbformat_minor": 2
}
