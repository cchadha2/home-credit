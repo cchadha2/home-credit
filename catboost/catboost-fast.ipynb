{
 "cells": [
  {
   "cell_type": "code",
   "execution_count": 1,
   "metadata": {},
   "outputs": [],
   "source": [
    "import os\n",
    "import math\n",
    "import time\n",
    "\n",
    "from contextlib import contextmanager\n",
    "import numpy as np\n",
    "import pandas as pd\n",
    "import catboost as cat\n",
    "from sklearn.metrics import roc_auc_score, roc_curve\n",
    "from sklearn.model_selection import KFold, StratifiedKFold"
   ]
  },
  {
   "cell_type": "code",
   "execution_count": 2,
   "metadata": {
    "_cell_guid": "79c7e3d0-c299-4dcb-8224-4455121ee9b0",
    "_uuid": "d629ff2d2480ee46fbb7e2d37f6b5fab8052498a"
   },
   "outputs": [],
   "source": [
    "@contextmanager\n",
    "def timer(title):\n",
    "    t0 = time.time()\n",
    "    yield\n",
    "    print(\"{} - done in {:.0f}s\".format(title, time.time() - t0))"
   ]
  },
  {
   "cell_type": "code",
   "execution_count": 3,
   "metadata": {},
   "outputs": [],
   "source": [
    "categorical_features = ['FLAG_OWN_CAR', 'FLAG_OWN_REALTY', 'FLAG_MOBIL', 'FLAG_EMP_PHONE',\n",
    "                        'FLAG_WORK_PHONE', 'FLAG_CONT_MOBILE', 'FLAG_PHONE', 'FLAG_EMAIL',\n",
    "                        'REG_REGION_NOT_LIVE_REGION', 'REG_REGION_NOT_WORK_REGION', 'LIVE_REGION_NOT_WORK_REGION', \n",
    "                        'REG_CITY_NOT_LIVE_CITY', 'REG_CITY_NOT_WORK_CITY', 'LIVE_CITY_NOT_WORK_CITY',\n",
    "                        'FLAG_DOCUMENT_3', 'FLAG_DOCUMENT_4', 'FLAG_DOCUMENT_5', 'FLAG_DOCUMENT_6',\n",
    "                        'FLAG_DOCUMENT_7', 'FLAG_DOCUMENT_8', 'FLAG_DOCUMENT_9', 'FLAG_DOCUMENT_11', \n",
    "                        'FLAG_DOCUMENT_18', 'CODE_GENDER', 'NAME_CONTRACT_TYPE',\n",
    "                        'REGION_RATING_CLIENT', 'REGION_RATING_CLIENT_W_CITY', 'EMERGENCYSTATE_MODE',\n",
    "                        'HOUSETYPE_MODE', 'FONDKAPREMONT_MODE', 'NAME_EDUCATION_TYPE', 'NAME_FAMILY_STATUS',\n",
    "                        'NAME_HOUSING_TYPE', 'NAME_TYPE_SUITE', 'WALLSMATERIAL_MODE','WEEKDAY_APPR_PROCESS_START',\n",
    "                        'NAME_INCOME_TYPE', 'OCCUPATION_TYPE', 'ORGANIZATION_TYPE']"
   ]
  },
  {
   "cell_type": "code",
   "execution_count": 4,
   "metadata": {},
   "outputs": [],
   "source": [
    "def catboost(cat_df, categorical_features, num_folds, stratified = False):\n",
    "    cat_train = cat_df[cat_df['TARGET'].notnull()]\n",
    "    cat_test = cat_df[cat_df['TARGET'].isnull()]\n",
    "    \n",
    "    del cat_df\n",
    "    # Cross validation model\n",
    "    if stratified:\n",
    "        folds = StratifiedKFold(n_splits= num_folds, shuffle=True, random_state=1000)\n",
    "    else:\n",
    "        folds = KFold(n_splits= num_folds, shuffle=True, random_state=1000)\n",
    "    # Create arrays and dataframes to store results\n",
    "    cat_val_preds = np.zeros(cat_train.shape[0])\n",
    "    cat_preds = np.zeros(cat_test.shape[0])\n",
    "    \n",
    "    feats = [f for f in cat_train.columns if f not in ['TARGET','SK_ID_CURR','SK_ID_BUREAU','SK_ID_PREV','index']]\n",
    "    \n",
    "    print(\"Starting CatBoost. Train shape: {}, test shape: {}\".format(cat_train.shape, cat_test.shape))\n",
    "    \n",
    "    for n_fold, (train_idx, valid_idx) in enumerate(folds.split(cat_train[feats], cat_train['TARGET'])):\n",
    "        \n",
    "        data_train, data_valid = cat_train[feats].iloc[train_idx], cat_train[feats].iloc[valid_idx]\n",
    "        label_train, label_valid = cat_train['TARGET'].iloc[train_idx], cat_train['TARGET'].iloc[valid_idx]\n",
    "        \n",
    "        cat_feat = [feature for feature in categorical_features if feature in cat_train[feats].columns] \n",
    "        cat_feat_idx = [(cat_train[feats].columns.get_loc(feature)) for feature in cat_feat]\n",
    "       \n",
    "        for feat in cat_feat:\n",
    "            if data_train[feat].isnull().values.any():\n",
    "                data_train[feat] = str(data_train[feat])\n",
    "            if data_valid[feat].isnull().values.any():\n",
    "                data_valid[feat] = str(data_valid[feat])\n",
    "            if cat_test[feat].isnull().values.any():\n",
    "                cat_test[feat] = str(cat_test[feat])\n",
    "            \n",
    "        \n",
    "        dtrain_cat = cat.Pool(data=data_train, label=label_train, cat_features = cat_feat_idx)\n",
    "        dvalid_cat = cat.Pool(data=data_valid, label=label_valid, cat_features = cat_feat_idx) \n",
    "        dtest_cat = cat.Pool(cat_test[feats], cat_features = cat_feat_idx)\n",
    "        \n",
    "        print(dtrain_cat.get_features())\n",
    "        print(dtrain_cat.get_label())\n",
    "        \n",
    "        # CatBoost parameters\n",
    "        params_cat = {\n",
    "            'colsample_bylevel': 0.9497036,\n",
    "            'reg_lambda': 0.0735294,\n",
    "            'loss_function': 'Logloss',\n",
    "            'boosting_type': 'Ordered',\n",
    "            'sampling_frequency': 'PerTree',\n",
    "            'max_depth': 8,\n",
    "#             'subsample': 0.8715623,\n",
    "            'random_seed': 0,\n",
    "            'learning_rate': 0.02,  # 02,\n",
    "            'num_boost_round': 1000,\n",
    "            'eval_metric': 'AUC',\n",
    "        }\n",
    "        \n",
    "        cat_clf = cat.CatBoost(params = params_cat)\n",
    "        \n",
    "        cat_clf.fit(\n",
    "            dtrain_cat,\n",
    "            eval_set = [dtrain_cat, dvalid_cat],\n",
    "            verbose = 100, \n",
    "            early_stopping_rounds=100\n",
    "        )\n",
    "        \n",
    "        cat_val_preds[valid_idx] = cat_clf.predict(dvalid_cat.get_features(), prediction_type = 'Probability')\n",
    "        cat_preds += cat_clf.predict(dtest_cat, prediction_type = 'Probability') / folds.n_splits\n",
    "        \n",
    "        print('CAT fold %2d AUC : %.6f' % (n_fold + 1, roc_auc_score(dvalid_cat.get_label(), cat_val_preds[valid_idx])))\n",
    "        del cat_clf, data_train, data_valid, label_train, label_valid, cat_feat, cat_feat_idx, dtrain_cat\n",
    "        del dvalid_cat\n",
    " \n",
    "    print('CAT Full AUC score %.6f' % roc_auc_score(cat_train['TARGET'], cat_val_preds))\n",
    "    # Write submission file\n",
    "    pred_df = cat_test[['SK_ID_CURR']].copy()\n",
    "    pred_df['TARGET'] = cat_preds\n",
    "    pred_df[['SK_ID_CURR', 'TARGET']].to_csv(submission_file_name, index= False)"
   ]
  },
  {
   "cell_type": "code",
   "execution_count": null,
   "metadata": {
    "scrolled": false
   },
   "outputs": [
    {
     "name": "stdout",
     "output_type": "stream",
     "text": [
      "Starting CatBoost. Train shape: (307511, 667), test shape: (48744, 667)\n"
     ]
    },
    {
     "name": "stderr",
     "output_type": "stream",
     "text": [
      "/anaconda3/envs/home-credit/lib/python3.6/site-packages/ipykernel_launcher.py:33: SettingWithCopyWarning: \n",
      "A value is trying to be set on a copy of a slice from a DataFrame.\n",
      "Try using .loc[row_indexer,col_indexer] = value instead\n",
      "\n",
      "See the caveats in the documentation: http://pandas.pydata.org/pandas-docs/stable/indexing.html#indexing-view-versus-copy\n"
     ]
    }
   ],
   "source": [
    "def main(categorical_features):\n",
    "    cat_df = pd.read_csv('../data/processed_data_2.2_no_encode.csv')\n",
    "\n",
    "    float_columns = [column for column in cat_df.columns if cat_df[column].dtype is float and column is not 'TARGET']\n",
    "    \n",
    "    cat_df.to_string(columns = float_columns)\n",
    "    \n",
    "    with timer(\"Ran CatBoost with kfold\"):\n",
    "        catboost(cat_df, categorical_features, num_folds= 5, stratified = True) \n",
    "\n",
    "if __name__ == \"__main__\":\n",
    "    submission_file_name = \"../predictions/cat_pred.csv\"\n",
    "    with timer(\"Full model run\"):\n",
    "        main(categorical_features)"
   ]
  },
  {
   "cell_type": "code",
   "execution_count": null,
   "metadata": {},
   "outputs": [],
   "source": []
  },
  {
   "cell_type": "code",
   "execution_count": null,
   "metadata": {},
   "outputs": [],
   "source": []
  }
 ],
 "metadata": {
  "kernelspec": {
   "display_name": "Python 3",
   "language": "python",
   "name": "python3"
  },
  "language_info": {
   "codemirror_mode": {
    "name": "ipython",
    "version": 3
   },
   "file_extension": ".py",
   "mimetype": "text/x-python",
   "name": "python",
   "nbconvert_exporter": "python",
   "pygments_lexer": "ipython3",
   "version": "3.6.6"
  }
 },
 "nbformat": 4,
 "nbformat_minor": 2
}
